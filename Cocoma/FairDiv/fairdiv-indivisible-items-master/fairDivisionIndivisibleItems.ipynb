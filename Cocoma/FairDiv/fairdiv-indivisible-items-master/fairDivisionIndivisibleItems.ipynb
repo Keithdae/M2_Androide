{
 "cells": [
  {
   "cell_type": "markdown",
   "metadata": {},
   "source": [
    "# Fair Division of Indivisible Goods"
   ]
  },
  {
   "cell_type": "markdown",
   "metadata": {},
   "source": [
    "This is a Jupyter Notebook coming along with the chapter \n",
    "* Chapter 12 (Handbook of Computational Social Choice)\n",
    "\n",
    "To be used as part of the course of :\n",
    "* The COST Summer School Lecture on Fair Division of Indivisible Items (San Sebastian, July 2016)\n",
    "* COCOMA: M2 course at UPMC, 2016-2017"
   ]
  },
  {
   "cell_type": "markdown",
   "metadata": {},
   "source": [
    "## 1. Defining MARA problems"
   ]
  },
  {
   "cell_type": "markdown",
   "metadata": {},
   "source": [
    "By importing problem, we can define fair division problems, by specifying a number of agents, a number of resources, and a type of preferences/culture. \n",
    "\n",
    "You can either:\n",
    "* define a **centralized** MARA problem (all the resources are initially held by agent 0, the auctioneer)\n",
    "* define a **decentralized** MARA problem (resources are initially randomly allocated)\n",
    "\n",
    "You can also select the method to generate utilities: \n",
    "* **uniform**: utilities for each resource is drawn uniformly at random from 1 to 100\n",
    "* **normalized**: utilities are normalized in [0,1]\n",
    "* **empty**: leaves utilites undefined. You can later use p.setUtilities() to set utilities as you wish for a problem p. "
   ]
  },
  {
   "cell_type": "code",
   "execution_count": 31,
   "metadata": {
    "collapsed": false
   },
   "outputs": [],
   "source": [
    "from problem import Problem"
   ]
  },
  {
   "cell_type": "code",
   "execution_count": 32,
   "metadata": {
    "collapsed": false
   },
   "outputs": [
    {
     "name": "stdout",
     "output_type": "stream",
     "text": [
      "agent 0{'r0': 82, 'r1': 52, 'r2': 37, 'r3': 29}\n",
      "agent 1{'r0': 55, 'r1': 5, 'r2': 87, 'r3': 45}\n",
      "agent 2{'r0': 50, 'r1': 44, 'r2': 12, 'r3': 62}\n",
      "\n"
     ]
    }
   ],
   "source": [
    "p1 = Problem(3,4,'uniform',centralized=True)\n",
    "print(p1)"
   ]
  },
  {
   "cell_type": "markdown",
   "metadata": {},
   "source": [
    "Printing the allocation allows to see which agent holds which resource, and the current utility of each agent. "
   ]
  },
  {
   "cell_type": "code",
   "execution_count": 33,
   "metadata": {
    "collapsed": false
   },
   "outputs": [
    {
     "name": "stdout",
     "output_type": "stream",
     "text": [
      "=-=-=-=-=-=-=-=-=-=-=-=-=-=-=-=-=-=-=-=-=-=-=-=-=-=\n",
      "agent  0           ['r0', 'r1', 'r2', 'r3']\t200\n",
      "agent  1                                 []\t 0\n",
      "agent  2                                 []\t 0\n",
      "\n"
     ]
    }
   ],
   "source": [
    "print(p1.printAllocation())\n"
   ]
  },
  {
   "cell_type": "markdown",
   "metadata": {},
   "source": [
    "A problem also handles a **visibility graph** among agents. Note that in the centalized case, agent 0 is isolated from the rest (his utility is irrelevant). "
   ]
  },
  {
   "cell_type": "code",
   "execution_count": 34,
   "metadata": {
    "collapsed": false
   },
   "outputs": [
    {
     "name": "stdout",
     "output_type": "stream",
     "text": [
      "{0: [], 1: [2], 2: [1]}\n"
     ]
    }
   ],
   "source": [
    "print (p1.visibility_graph)"
   ]
  },
  {
   "cell_type": "markdown",
   "metadata": {},
   "source": [
    "### Example of the course"
   ]
  },
  {
   "cell_type": "code",
   "execution_count": 35,
   "metadata": {
    "collapsed": false
   },
   "outputs": [
    {
     "name": "stdout",
     "output_type": "stream",
     "text": [
      "agent 0{'r4': 0, 'r5': 0, 'r0': 0, 'r1': 0, 'r2': 0, 'r3': 0}\n",
      "agent 1{'r4': 7, 'r5': 2, 'r0': 1, 'r1': 2, 'r2': 5, 'r3': 3}\n",
      "agent 2{'r4': 1, 'r5': 2, 'r0': 2, 'r1': 6, 'r2': 8, 'r3': 1}\n",
      "agent 3{'r4': 2, 'r5': 2, 'r0': 5, 'r1': 4, 'r2': 4, 'r3': 3}\n",
      "\n",
      "=-=-=-=-=-=-=-=-=-=-=-=-=-=-=-=-=-=-=-=-=-=-=-=-=-=\n",
      "agent  0['r4', 'r5', 'r0', 'r1', 'r2', 'r3']\t 0\n",
      "agent  1                                 []\t 0\n",
      "agent  2                                 []\t 0\n",
      "agent  3                                 []\t 0\n",
      "\n"
     ]
    }
   ],
   "source": [
    "p3 = Problem(4,6,'empty', centralized=True)\n",
    "p3.setUtilities(\n",
    "[{'r0':0,'r1':0,'r2':0,'r3':0,'r4':0,'r5':0},\\\n",
    "{'r0':1,'r1':2,'r2':5,'r3':3,'r4':7,'r5':2},\\\n",
    "{'r0':2,'r1':6,'r2':8,'r3':1,'r4':1,'r5':2},\\\n",
    "{'r0':5,'r1':4,'r2':4,'r3':3,'r4':2,'r5':2}]\n",
    ")\n",
    "print (p3)\n",
    "print (p3.printAllocation())"
   ]
  },
  {
   "cell_type": "markdown",
   "metadata": {},
   "source": [
    "## 2. Fairness measures"
   ]
  },
  {
   "cell_type": "code",
   "execution_count": 36,
   "metadata": {
    "collapsed": false
   },
   "outputs": [],
   "source": [
    "import fairnessMeasures"
   ]
  },
  {
   "cell_type": "code",
   "execution_count": 37,
   "metadata": {
    "collapsed": false
   },
   "outputs": [
    {
     "name": "stdout",
     "output_type": "stream",
     "text": [
      "agent 0{'r4': 0.19, 'r5': 0.178, 'r0': 0.201, 'r1': 0.152, 'r2': 0.091, 'r3': 0.187}\n",
      "agent 1{'r4': 0.245, 'r5': 0.305, 'r0': 0.011, 'r1': 0.337, 'r2': 0.057, 'r3': 0.046}\n",
      "agent 2{'r4': 0.043, 'r5': 0.223, 'r0': 0.194, 'r1': 0.156, 'r2': 0.284, 'r3': 0.1}\n",
      "\n"
     ]
    }
   ],
   "source": [
    "p2 = Problem(3,6,'normalized',centralized=False)\n",
    "print(p2)"
   ]
  },
  {
   "cell_type": "code",
   "execution_count": 38,
   "metadata": {
    "collapsed": false
   },
   "outputs": [
    {
     "name": "stdout",
     "output_type": "stream",
     "text": [
      "=-=-=-=-=-=-=-=-=-=-=-=-=-=-=-=-=-=-=-=-=-=-=-=-=-=\n",
      "agent  0                       ['r4', 'r3']\t0.377\n",
      "agent  1                             ['r5']\t0.305\n",
      "agent  2                 ['r0', 'r1', 'r2']\t0.634\n",
      "\n"
     ]
    }
   ],
   "source": [
    "print(p2.printAllocation())"
   ]
  },
  {
   "cell_type": "markdown",
   "metadata": {},
   "source": [
    "We can check various fairness properties..."
   ]
  },
  {
   "cell_type": "code",
   "execution_count": 39,
   "metadata": {
    "collapsed": false
   },
   "outputs": [
    {
     "name": "stdout",
     "output_type": "stream",
     "text": [
      "False\n"
     ]
    }
   ],
   "source": [
    "print(fairnessMeasures.isProportional(p2))"
   ]
  },
  {
   "cell_type": "code",
   "execution_count": 40,
   "metadata": {
    "collapsed": false
   },
   "outputs": [
    {
     "name": "stdout",
     "output_type": "stream",
     "text": [
      "0.305\n"
     ]
    }
   ],
   "source": [
    "print(fairnessMeasures.egalitarianSW(p2))"
   ]
  },
  {
   "cell_type": "markdown",
   "metadata": {},
   "source": [
    "... and build the envy matrix from which several measures can be obtained. "
   ]
  },
  {
   "cell_type": "code",
   "execution_count": 41,
   "metadata": {
    "collapsed": false
   },
   "outputs": [
    {
     "name": "stdout",
     "output_type": "stream",
     "text": [
      "[[ 0.     0.     0.067]\n",
      " [ 0.     0.     0.1  ]\n",
      " [ 0.     0.     0.   ]]\n",
      "('There are ', 2, ' envious agents')\n",
      "('The maximum envy among two agents is ', 0.10000000000000003)\n"
     ]
    }
   ],
   "source": [
    "em = fairnessMeasures.envyMatrix(p2)\n",
    "print(em)\n",
    "print(\"There are \", fairnessMeasures.nbEnviousAgents(em), \" envious agents\")\n",
    "print(\"The maximum envy among two agents is \", fairnessMeasures.maxEnvy(em))"
   ]
  },
  {
   "cell_type": "markdown",
   "metadata": {},
   "source": [
    "### 2.1 Question"
   ]
  },
  {
   "cell_type": "markdown",
   "metadata": {},
   "source": [
    "Create an instance involving 3 agents and 4 resources, with the following  utilities for the ressources : \n",
    "* agent 0: 6, 6, 1, 7\n",
    "* agent 1: 1, 3, 9, 7\n",
    "* agent 2: 8, 0, 4, 8\n",
    "\n",
    "Find allocations which satisfies : \n",
    "* proportionality\n",
    "* envy-freeness\n",
    "* maximizes egalitarian social welfare\n",
    "* maximizes utilitarian social welfare\n",
    "* maximizes the Nash product"
   ]
  },
  {
   "cell_type": "code",
   "execution_count": 42,
   "metadata": {
    "collapsed": false
   },
   "outputs": [
    {
     "name": "stdout",
     "output_type": "stream",
     "text": [
      "agent 0{'r0': 6, 'r1': 6, 'r2': 1, 'r3': 7}\n",
      "agent 1{'r0': 1, 'r1': 3, 'r2': 9, 'r3': 7}\n",
      "agent 2{'r0': 8, 'r1': 0, 'r2': 4, 'r3': 8}\n",
      "\n",
      "=-=-=-=-=-=-=-=-=-=-=-=-=-=-=-=-=-=-=-=-=-=-=-=-=-=\n",
      "agent  0                       ['r1', 'r3']\t13\n",
      "agent  1                             ['r2']\t 9\n",
      "agent  2                             ['r0']\t 8\n",
      "\n",
      "L'allocation est proportionnelle \n",
      "[[ 0.  0.  0.]\n",
      " [ 1.  0.  0.]\n",
      " [ 0.  0.  0.]]\n",
      "('There are ', 1, ' envious agents')\n",
      "('The maximum envy among two agents is ', 1.0)\n",
      "Egalitarian social welfare : 8\n",
      "Utilitarian social welfare : 30\n",
      "Nash social welfare : 936\n"
     ]
    }
   ],
   "source": [
    "pr = Problem(3,4,'empty',centralized=False)\n",
    "pr.setUtilities(\n",
    "[{'r0':6,'r1':6,'r2':1,'r3':7},\\\n",
    "{'r0':1,'r1':3,'r2':9,'r3':7},\\\n",
    "{'r0':8,'r1':0,'r2':4,'r3':8}]\n",
    ")\n",
    "print(pr)\n",
    "pr.setAllocation(\n",
    "[[False,True,False,True],\\\n",
    "[False,False,True,False],\\\n",
    "[True,False,False,False]\n",
    "]\n",
    ")\n",
    "print(pr.printAllocation())\n",
    "\n",
    "print(\"L'allocation est proportionnelle \"if fairnessMeasures.isProportional(pr) else \"L'allocation n'est pas proportionnelle\" )\n",
    "\n",
    "empr = fairnessMeasures.envyMatrix(pr)\n",
    "print(empr)\n",
    "print(\"There are \", fairnessMeasures.nbEnviousAgents(empr), \" envious agents\")\n",
    "print(\"The maximum envy among two agents is \", fairnessMeasures.maxEnvy(empr))\n",
    "\n",
    "print(\"Egalitarian social welfare : \"+str(fairnessMeasures.egalitarianSW(pr)))\n",
    "print(\"Utilitarian social welfare : \"+str(pr.agent[0].current_u + pr.agent[1].current_u + pr.agent[2].current_u))\n",
    "print(\"Nash social welfare : \"+str(pr.agent[0].current_u * pr.agent[1].current_u * pr.agent[2].current_u))"
   ]
  },
  {
   "cell_type": "markdown",
   "metadata": {},
   "source": [
    "## 3. Solving via MIP"
   ]
  },
  {
   "cell_type": "markdown",
   "metadata": {},
   "source": [
    "By importing mipsolving we get access to functions allowing to optimally solve the problems via MIP formulations (see course). \n",
    "The program uses the Pulp libray for linear programming. "
   ]
  },
  {
   "cell_type": "code",
   "execution_count": 43,
   "metadata": {
    "collapsed": false
   },
   "outputs": [],
   "source": [
    "import mipsolving"
   ]
  },
  {
   "cell_type": "code",
   "execution_count": 44,
   "metadata": {
    "collapsed": false
   },
   "outputs": [
    {
     "name": "stdout",
     "output_type": "stream",
     "text": [
      "('agent ', 1, ' gets resource r3')\n",
      "('agent ', 1, ' gets resource r4')\n",
      "('agent ', 2, ' gets resource r2')\n",
      "('agent ', 2, ' gets resource r5')\n",
      "('agent ', 3, ' gets resource r0')\n",
      "('agent ', 3, ' gets resource r1')\n",
      "('the final max envy is ', 0.0)\n"
     ]
    }
   ],
   "source": [
    "e3 = mipsolving.envyminimizingLP(p3,verbose=True)\n",
    "print(\"the final max envy is \",e3)"
   ]
  },
  {
   "cell_type": "markdown",
   "metadata": {},
   "source": [
    "(Note that this has not modified the initial problem)"
   ]
  },
  {
   "cell_type": "code",
   "execution_count": 45,
   "metadata": {
    "collapsed": false
   },
   "outputs": [
    {
     "name": "stdout",
     "output_type": "stream",
     "text": [
      "('agent ', 1, ' gets resource r3')\n",
      "('agent ', 1, ' gets resource r4')\n",
      "('agent ', 2, ' gets resource r2')\n",
      "('agent ', 2, ' gets resource r5')\n",
      "('agent ', 3, ' gets resource r0')\n",
      "('agent ', 3, ' gets resource r1')\n",
      "9.0\n"
     ]
    }
   ],
   "source": [
    "print(mipsolving.assignmentLP(p3,verbose=True))"
   ]
  },
  {
   "cell_type": "markdown",
   "metadata": {},
   "source": [
    "For facilitating the run of several problems with varying or similar parameters, the module simulations provides a few functions. "
   ]
  },
  {
   "cell_type": "code",
   "execution_count": 46,
   "metadata": {
    "collapsed": false
   },
   "outputs": [],
   "source": [
    "import simulations\n"
   ]
  },
  {
   "cell_type": "markdown",
   "metadata": {},
   "source": [
    "### How likely is it to get an envy-free allocation? "
   ]
  },
  {
   "cell_type": "markdown",
   "metadata": {},
   "source": [
    "Let us illustrate this on a specific question, adressed by Dickerson et al. in their paper: \n",
    "* The computational Rise and Fall of Fairness, AAAI-2014"
   ]
  },
  {
   "cell_type": "code",
   "execution_count": 47,
   "metadata": {
    "collapsed": false
   },
   "outputs": [
    {
     "name": "stdout",
     "output_type": "stream",
     "text": [
      "Experiments completed!\n"
     ]
    }
   ],
   "source": [
    "tested_resources = list(range(5,10)) # from 2 to 4 resources\n",
    "tested_agents = [5] # only 2 agents\n",
    "max_envy,ratio_ef = simulations.simulationOpt(50,tested_agents,tested_resources,'normalized')\n",
    "#print (max_envy,ratio_ef)\n",
    "print(\"Experiments completed!\")"
   ]
  },
  {
   "cell_type": "code",
   "execution_count": 48,
   "metadata": {
    "collapsed": false
   },
   "outputs": [
    {
     "data": {
      "image/png": "[encoded data removed]",
      "text/plain": [
       "<matplotlib.figure.Figure at 0x7f179c3e3e50>"
      ]
     },
     "metadata": {},
     "output_type": "display_data"
    }
   ],
   "source": [
    "%matplotlib inline\n",
    "import numpy as np\n",
    "from matplotlib import pyplot as plt\n",
    "from IPython.core.pylabtools import figsize\n",
    "import networkx as nx\n",
    "import pylab\n",
    "figsize(12.5, 4)\n",
    "p = np.linspace(tested_resources[0], tested_resources[0]+len(tested_resources)-1,len(tested_resources))\n",
    "#print(p)\n",
    "plt.plot(p, max_envy[0], color='red')\n",
    "plt.plot(p, ratio_ef[0], color = 'blue')\n",
    "legende = \"Average max envy and ratio of envy-free, for increasing number of items\"\n",
    "plt.suptitle(legende, y=1.02, fontsize=15)\n",
    "plt.tight_layout()"
   ]
  },
  {
   "cell_type": "markdown",
   "metadata": {},
   "source": [
    "### 3.1 Question\n",
    "Play a little bit with these simulations and try to determine:\n",
    "* for 2 agents, how the max envy evolves, from which number of agents you can be reasonably sure to get an envy-free allocation\n",
    "* same question for 5 agents"
   ]
  },
  {
   "cell_type": "markdown",
   "metadata": {},
   "source": [
    "## 4. Protocols"
   ]
  },
  {
   "cell_type": "markdown",
   "metadata": {},
   "source": [
    "Several protocols have been implemented. They can be accessed by importing the module protocols. "
   ]
  },
  {
   "cell_type": "code",
   "execution_count": 49,
   "metadata": {
    "collapsed": false
   },
   "outputs": [],
   "source": [
    "import protocols"
   ]
  },
  {
   "cell_type": "markdown",
   "metadata": {},
   "source": [
    "### 4. 1 Picking Sequences"
   ]
  },
  {
   "cell_type": "markdown",
   "metadata": {},
   "source": [
    "Let us apply a picking sequence on our problem p3. "
   ]
  },
  {
   "cell_type": "code",
   "execution_count": 50,
   "metadata": {
    "collapsed": false
   },
   "outputs": [
    {
     "name": "stdout",
     "output_type": "stream",
     "text": [
      "agent 0{'r4': 0, 'r5': 0, 'r0': 0, 'r1': 0, 'r2': 0, 'r3': 0}\n",
      "agent 1{'r4': 7, 'r5': 2, 'r0': 1, 'r1': 2, 'r2': 5, 'r3': 3}\n",
      "agent 2{'r4': 1, 'r5': 2, 'r0': 2, 'r1': 6, 'r2': 8, 'r3': 1}\n",
      "agent 3{'r4': 2, 'r5': 2, 'r0': 5, 'r1': 4, 'r2': 4, 'r3': 3}\n",
      "\n",
      "=-=-=-=-=-=-=-=-=-=-=-=-=-=-=-=-=-=-=-=-=-=-=-=-=-=\n",
      "agent  0['r4', 'r5', 'r0', 'r1', 'r2', 'r3']\t 0\n",
      "agent  1                                 []\t 0\n",
      "agent  2                                 []\t 0\n",
      "agent  3                                 []\t 0\n",
      "\n"
     ]
    }
   ],
   "source": [
    "print(p3)\n",
    "print (p3.printAllocation())"
   ]
  },
  {
   "cell_type": "markdown",
   "metadata": {},
   "source": [
    "It is also possible to generate standard sequences, like balanced or alternate ones. "
   ]
  },
  {
   "cell_type": "code",
   "execution_count": 51,
   "metadata": {
    "collapsed": false
   },
   "outputs": [
    {
     "name": "stdout",
     "output_type": "stream",
     "text": [
      "[1, 2, 3, 3, 2, 1]\n"
     ]
    }
   ],
   "source": [
    "s= protocols.generateSequence(3,6,'balanced')\n",
    "print(s)"
   ]
  },
  {
   "cell_type": "code",
   "execution_count": 52,
   "metadata": {
    "collapsed": true
   },
   "outputs": [],
   "source": [
    "s0 = [1,2,3,2,3,1]"
   ]
  },
  {
   "cell_type": "code",
   "execution_count": 53,
   "metadata": {
    "collapsed": false
   },
   "outputs": [
    {
     "name": "stdout",
     "output_type": "stream",
     "text": [
      "('agent ', 1, ' picks ', 'r4')\n",
      "('agent ', 2, ' picks ', 'r2')\n",
      "('agent ', 3, ' picks ', 'r0')\n",
      "('agent ', 2, ' picks ', 'r1')\n",
      "('agent ', 3, ' picks ', 'r3')\n",
      "('agent ', 1, ' picks ', 'r5')\n"
     ]
    }
   ],
   "source": [
    "protocols.pickingSequence(p3,s0,verbose=True)"
   ]
  },
  {
   "cell_type": "code",
   "execution_count": 54,
   "metadata": {
    "collapsed": false
   },
   "outputs": [
    {
     "name": "stdout",
     "output_type": "stream",
     "text": [
      "=-=-=-=-=-=-=-=-=-=-=-=-=-=-=-=-=-=-=-=-=-=-=-=-=-=\n",
      "agent  0                                 []\t 0\n",
      "agent  1                       ['r4', 'r5']\t 9\n",
      "agent  2                       ['r2', 'r1']\t14\n",
      "agent  3                       ['r0', 'r3']\t 8\n",
      "\n"
     ]
    }
   ],
   "source": [
    "print(p3.printAllocation())"
   ]
  },
  {
   "cell_type": "code",
   "execution_count": 55,
   "metadata": {
    "collapsed": false
   },
   "outputs": [
    {
     "name": "stdout",
     "output_type": "stream",
     "text": [
      "[[ 0.  0.  0.  0.]\n",
      " [ 0.  0.  0.  0.]\n",
      " [ 0.  0.  0.  0.]\n",
      " [ 0.  0.  0.  0.]]\n"
     ]
    }
   ],
   "source": [
    "print(fairnessMeasures.envyMatrix(p3))"
   ]
  },
  {
   "cell_type": "markdown",
   "metadata": {},
   "source": [
    "### What is the fairest picking sequence?"
   ]
  },
  {
   "cell_type": "code",
   "execution_count": 56,
   "metadata": {
    "collapsed": false
   },
   "outputs": [],
   "source": [
    "import simulations"
   ]
  },
  {
   "cell_type": "markdown",
   "metadata": {},
   "source": [
    "Let us consider 3 agents and 5 items. \n",
    "Can you propose some sequence which would do well in terms of egalitarian social welfare? \n",
    "You can simulate a number of picking sequences by specifying: the number of experiments, the number of agents (remember to count agent 0 here-to be fixed sorry), the number of objects, the sequence, and the ways utilities are generated. "
   ]
  },
  {
   "cell_type": "code",
   "execution_count": 57,
   "metadata": {
    "collapsed": false
   },
   "outputs": [
    {
     "name": "stdout",
     "output_type": "stream",
     "text": [
      "=-=-=-=-=-=-=-=-=-=-=-=-=-=-=-=-=-=-=-=-=-=-=-=-=-=\n",
      "= Number of experiments:                 1000\n",
      "= Average egalitarian sw:                  2.93\n",
      "= Ratio of proportional:                0.191\n",
      "= Ratio of envy free:                    0.059\n",
      "= Average number of envious:             0.941\n",
      "= Average max envy:                      4.348\n",
      "=-=-=-=-=-=-=-=-=-=-=-=-=-=-=-=-=-=-=-=-=-=-=-=-=-=\n",
      "\n"
     ]
    }
   ],
   "source": [
    "simulations.simulationPickingSequences(1000,4,5,[1,2,2,1,3],'borda',verbose=False)"
   ]
  },
  {
   "cell_type": "markdown",
   "metadata": {},
   "source": [
    "### Question\n",
    "For 3 agents, and 5, 6, and 8 objects, could you find the fairest picking sequences in terms of: \n",
    "* egalitarian social welfare\n",
    "* average max envy"
   ]
  },
  {
   "cell_type": "code",
   "execution_count": 107,
   "metadata": {
    "collapsed": false
   },
   "outputs": [
    {
     "name": "stdout",
     "output_type": "stream",
     "text": [
      "=-=-=-=-=-=-=-=-=-=-=-=-=-=-=-=-=-=-=-=-=-=-=-=-=-=\n",
      "= Number of experiments:                50000\n",
      "= Average egalitarian sw:              14.46434\n",
      "= Ratio of proportional:               0.9799\n",
      "= Ratio of envy free:                  0.87688\n",
      "= Average number of envious:            0.1272\n",
      "= Average max envy:                    0.23606\n",
      "=-=-=-=-=-=-=-=-=-=-=-=-=-=-=-=-=-=-=-=-=-=-=-=-=-=\n",
      "\n"
     ]
    }
   ],
   "source": [
    "#simulations.simulationPickingSequences(10000,4,5,[1,2,3,3,2],'borda',verbose=False)\n",
    "#simulations.simulationPickingSequences(10000,4,6,[1,2,3,3,2,1],'borda',verbose=False)\n",
    "simulations.simulationPickingSequences(50000,4,8,[1,1,2,3,2,3,3,2],'borda',verbose=False)"
   ]
  },
  {
   "cell_type": "markdown",
   "metadata": {
    "collapsed": true
   },
   "source": [
    "* See (Bouveret and Lang, IJCAI-11) for more details about this topic. "
   ]
  }
 ],
 "metadata": {
  "kernelspec": {
   "display_name": "Python 2",
   "language": "python",
   "name": "python2"
  },
  "language_info": {
   "codemirror_mode": {
    "name": "ipython",
    "version": 2
   },
   "file_extension": ".py",
   "mimetype": "text/x-python",
   "name": "python",
   "nbconvert_exporter": "python",
   "pygments_lexer": "ipython2",
   "version": "2.7.9"
  }
 },
 "nbformat": 4,
 "nbformat_minor": 0
}
